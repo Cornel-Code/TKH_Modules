{
 "cells": [
  {
   "cell_type": "markdown",
   "metadata": {},
   "source": [
    "# Python fundamentals Exercises (Conditionals, Loops)\n",
    "\n",
    "The notebook intends to help you practice these concepts. Attempt honestly.\n",
    "\n",
    "Instructions/Suggestions:\n",
    "1. Don't forget to copy the expression from the Question to code cell!\n",
    "2. You can use the python documentation anytime you want to learn about a new function or attribute."
   ]
  },
  {
   "cell_type": "markdown",
   "metadata": {},
   "source": [
    "## Q1: What would be the output of the following code block?\n",
    "\n",
    "```python\n",
    "count = 4\n",
    "print(count == 2)\n",
    "print(count != 4)\n",
    "print(count > 4)\n",
    "print(count < 6)\n",
    "\n",
    "```\n"
   ]
  },
  {
   "cell_type": "code",
   "execution_count": 8,
   "metadata": {},
   "outputs": [
    {
     "name": "stdout",
     "output_type": "stream",
     "text": [
      "False\n",
      "False\n",
      "False\n",
      "True\n"
     ]
    }
   ],
   "source": [
    "# code and test below\n",
    "\n",
    "'''\n",
    "\n",
    "False\n",
    "False\n",
    "False\n",
    "True\n",
    "\n",
    "'''\n",
    "\n",
    "count = 4\n",
    "print(count == 2)\n",
    "print(count != 4)\n",
    "print(count > 4)\n",
    "print(count < 6)\n",
    "\n"
   ]
  },
  {
   "cell_type": "markdown",
   "metadata": {},
   "source": [
    "## Q2: What would be the output of the following code block?\n",
    "\n",
    "```python\n",
    "color = \"red\"\n",
    "category = \"fruit\"\n",
    "\n",
    "if color == \"red\" and category == \"fruit\":\n",
    "    print(\"We have an Apple!)\n",
    "\n",
    "if color == \"red\" and category == \"vegetable\":\n",
    "    print(\"We have tomatoes\")\n",
    "\n",
    "```\n"
   ]
  },
  {
   "cell_type": "code",
   "execution_count": 6,
   "metadata": {},
   "outputs": [
    {
     "name": "stdout",
     "output_type": "stream",
     "text": [
      "We have an Apple!\n"
     ]
    }
   ],
   "source": [
    "# code and test below\n",
    "\n",
    "#We have an Apple!\n",
    "\n",
    "color = \"red\"\n",
    "category = \"fruit\"\n",
    "\n",
    "if color == \"red\" and category == \"fruit\":\n",
    "    print(\"We have an Apple!\")\n",
    "\n",
    "if color == \"red\" and category == \"vegetable\":\n",
    "    print(\"We have tomatoes\")\n",
    "\n"
   ]
  },
  {
   "cell_type": "markdown",
   "metadata": {},
   "source": [
    "## Q3: What would be the output of the following code block?\n",
    "\n",
    "```python\n",
    "requested = ['blueberry', 'banana']\n",
    "fruits = ['apple', 'banana', 'watermelon', 'kiwi', 'rasberry']\n",
    "\n",
    "if requested not in fruits:\n",
    "    print(\"Sorry, We don't have bananas in stock. Please review your order!\")\n",
    "\n",
    "else:\n",
    "    print(\"Order is placed!\")\n",
    "\n",
    "```"
   ]
  },
  {
   "cell_type": "code",
   "execution_count": 4,
   "metadata": {},
   "outputs": [
    {
     "name": "stdout",
     "output_type": "stream",
     "text": [
      "Sorry, We don't have bananas in stock. Please review your order!\n"
     ]
    }
   ],
   "source": [
    "# code and test below\n",
    "\n",
    "#Sorry, We don't have bananas in stock. Please review your order!\n",
    "\n",
    "\n",
    "requested = ['blueberry', 'banana']\n",
    "fruits = ['apple', 'banana', 'watermelon', 'kiwi', 'rasberry']\n",
    "\n",
    "if requested not in fruits:\n",
    "    print(\"Sorry, We don't have bananas in stock. Please review your order!\")\n",
    "\n",
    "else:\n",
    "    print(\"Order is placed!\")\n",
    "\n",
    "    \n"
   ]
  },
  {
   "cell_type": "markdown",
   "metadata": {},
   "source": [
    "## Q4: What would be the output of the following code block?\n",
    "\n",
    "```python\n",
    "scores1 = [1,2,3]\n",
    "scores2 = [1,2,3]\n",
    "\n",
    "print(score1 == score2)\n",
    "\n",
    "```"
   ]
  },
  {
   "cell_type": "code",
   "execution_count": 3,
   "metadata": {},
   "outputs": [
    {
     "name": "stdout",
     "output_type": "stream",
     "text": [
      "True\n"
     ]
    }
   ],
   "source": [
    "# code and test below\n",
    "\n",
    "#True\n",
    "\n",
    "scores1 = [1,2,3]\n",
    "scores2 = [1,2,3]\n",
    "\n",
    "print(scores1 == scores2)\n"
   ]
  },
  {
   "cell_type": "markdown",
   "metadata": {},
   "source": [
    "## Q5: What would be the output of the following code block? Learn about 'is' operator.\n",
    "\n",
    "```python\n",
    "scores1 = [1,2,3]\n",
    "scores2 = [1,2,3]\n",
    "\n",
    "print(score1 == score2)\n",
    "print(score1 is score2)\n",
    "\n",
    "```"
   ]
  },
  {
   "cell_type": "code",
   "execution_count": 2,
   "metadata": {},
   "outputs": [
    {
     "name": "stdout",
     "output_type": "stream",
     "text": [
      "True\n",
      "False\n"
     ]
    }
   ],
   "source": [
    "# code and test below\n",
    "\n",
    "'''\n",
    "True, False\n",
    "'''\n",
    "\n",
    "scores1 = [1,2,3]\n",
    "scores2 = [1,2,3]\n",
    "\n",
    "print(scores1 == scores2)\n",
    "print(scores1 is scores2)\n",
    "\n"
   ]
  },
  {
   "cell_type": "markdown",
   "metadata": {},
   "source": [
    "## Q6: Print the following pattern using for loops:\n",
    "\n",
    "*\n",
    "**\n",
    "***\n",
    "****\n",
    ".\n",
    ".\n",
    ".\n",
    "*****....*(n times)\n",
    "\n"
   ]
  },
  {
   "cell_type": "code",
   "execution_count": 1,
   "metadata": {},
   "outputs": [
    {
     "name": "stdout",
     "output_type": "stream",
     "text": [
      "*\n",
      "**\n",
      "***\n",
      "****\n",
      "*****\n",
      "******\n",
      "*******\n",
      "********\n",
      "*********\n"
     ]
    }
   ],
   "source": [
    "NumList = {1,2,3,4,5,6,7,8,9}\n",
    "for el in NumList:\n",
    "    print('*' * el)\n"
   ]
  },
  {
   "cell_type": "code",
   "execution_count": null,
   "metadata": {},
   "outputs": [],
   "source": []
  },
  {
   "cell_type": "code",
   "execution_count": null,
   "metadata": {},
   "outputs": [],
   "source": []
  },
  {
   "cell_type": "code",
   "execution_count": null,
   "metadata": {},
   "outputs": [],
   "source": []
  },
  {
   "cell_type": "code",
   "execution_count": null,
   "metadata": {},
   "outputs": [],
   "source": []
  },
  {
   "cell_type": "code",
   "execution_count": null,
   "metadata": {},
   "outputs": [],
   "source": []
  },
  {
   "cell_type": "code",
   "execution_count": null,
   "metadata": {},
   "outputs": [],
   "source": []
  }
 ],
 "metadata": {
  "kernelspec": {
   "display_name": "Python 3",
   "language": "python",
   "name": "python3"
  },
  "language_info": {
   "codemirror_mode": {
    "name": "ipython",
    "version": 3
   },
   "file_extension": ".py",
   "mimetype": "text/x-python",
   "name": "python",
   "nbconvert_exporter": "python",
   "pygments_lexer": "ipython3",
   "version": "3.7.11"
  }
 },
 "nbformat": 4,
 "nbformat_minor": 2
}
