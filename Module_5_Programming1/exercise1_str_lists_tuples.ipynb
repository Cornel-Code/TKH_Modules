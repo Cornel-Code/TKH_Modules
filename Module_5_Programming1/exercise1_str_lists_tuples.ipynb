{
 "cells": [
  {
   "cell_type": "markdown",
   "metadata": {},
   "source": [
    "# Python fundamentals Exercises (Expressions, Strings, Lists, Tuples)\n",
    "\n",
    "The notebook intends to help you practice these concepts. Attempt honestly.\n",
    "\n",
    "Instructions/Suggestions:\n",
    "1. Don't forget to copy the expression from the Question to code cell!\n",
    "2. You can use the python documentation anytime you want to learn about a new function or attribute."
   ]
  },
  {
   "cell_type": "markdown",
   "metadata": {},
   "source": [
    "## Q1: What is 84 / 12 + 2 * 2 ?"
   ]
  },
  {
   "cell_type": "code",
   "execution_count": 1,
   "metadata": {},
   "outputs": [
    {
     "data": {
      "text/plain": [
       "11.0"
      ]
     },
     "execution_count": 1,
     "metadata": {},
     "output_type": "execute_result"
    }
   ],
   "source": [
    "# code and test below...\n",
    "\n",
    "#11.0\n",
    "\n",
    "84 / 12 + 2 * 2\n",
    "\n",
    "\n"
   ]
  },
  {
   "cell_type": "markdown",
   "metadata": {},
   "source": [
    "## Q2: What is the type of the answer variable in this expression:\n",
    "\n",
    "`answer = 12/4`"
   ]
  },
  {
   "cell_type": "code",
   "execution_count": 2,
   "metadata": {},
   "outputs": [
    {
     "name": "stdout",
     "output_type": "stream",
     "text": [
      "<class 'float'>\n"
     ]
    }
   ],
   "source": [
    "#<class 'float'>\n",
    "\n",
    "\n",
    "# code and test below...\n",
    "\n",
    "answer = 12/4\n",
    "\n",
    "print(type(answer))\n"
   ]
  },
  {
   "cell_type": "markdown",
   "metadata": {},
   "source": [
    "## Q3: What is the value of num?\n",
    "\n",
    "```python\n",
    "num = 2\n",
    "num = 5*10\n",
    "```"
   ]
  },
  {
   "cell_type": "code",
   "execution_count": 4,
   "metadata": {},
   "outputs": [
    {
     "name": "stdout",
     "output_type": "stream",
     "text": [
      "50\n"
     ]
    }
   ],
   "source": [
    "# code and test below...\n",
    "\n",
    "#50, num has been reassigned \n",
    "\n",
    "num = 2\n",
    "num = 5*10\n",
    "\n",
    "print(num)\n"
   ]
  },
  {
   "cell_type": "markdown",
   "metadata": {},
   "source": [
    "## Q4: What would this expression evaluate to?\n",
    "\n",
    "`'tom' + 1`"
   ]
  },
  {
   "cell_type": "code",
   "execution_count": 32,
   "metadata": {},
   "outputs": [],
   "source": [
    "# code and test below...\n",
    "\n",
    "#An error. You can't add a string to an number and a can't concatinate a number with a string. \n",
    "#\"tom\" + \"1\" would work, but give us \"tom1\"\n"
   ]
  },
  {
   "cell_type": "markdown",
   "metadata": {},
   "source": [
    "## Q5: What would this expression evaluate to?\n",
    "\n",
    "`'6' + '4'`"
   ]
  },
  {
   "cell_type": "code",
   "execution_count": 5,
   "metadata": {},
   "outputs": [
    {
     "data": {
      "text/plain": [
       "'64'"
      ]
     },
     "execution_count": 5,
     "metadata": {},
     "output_type": "execute_result"
    }
   ],
   "source": [
    "# code and test below...\n",
    "\n",
    "#'64'\n",
    "\n",
    "'6' + '4'\n",
    "\n"
   ]
  },
  {
   "cell_type": "markdown",
   "metadata": {},
   "source": [
    "## Q6: What would be the output of MyString[5:12] if?\n",
    "\n",
    "`MyString = \"Data Science with Harshit\"`"
   ]
  },
  {
   "cell_type": "code",
   "execution_count": 6,
   "metadata": {},
   "outputs": [
    {
     "data": {
      "text/plain": [
       "'Science'"
      ]
     },
     "execution_count": 6,
     "metadata": {},
     "output_type": "execute_result"
    }
   ],
   "source": [
    "# code and test below...\n",
    "\n",
    "#'Science'\n",
    "\n",
    "MyString = \"Data Science with Harshit\"\n",
    "\n",
    "MyString[5:12]\n",
    "\n"
   ]
  },
  {
   "cell_type": "markdown",
   "metadata": {},
   "source": [
    "## Q7: What would be the output of MyString[5:] if?\n",
    "\n",
    "`MyString = \"Data Science with Harshit\"`"
   ]
  },
  {
   "cell_type": "code",
   "execution_count": 7,
   "metadata": {},
   "outputs": [
    {
     "data": {
      "text/plain": [
       "'Science with Harshit'"
      ]
     },
     "execution_count": 7,
     "metadata": {},
     "output_type": "execute_result"
    }
   ],
   "source": [
    "# code and test below...\n",
    "\n",
    "#'Science with Harshit'\n",
    "\n",
    "MyString[5:]\n",
    "\n"
   ]
  },
  {
   "cell_type": "markdown",
   "metadata": {},
   "source": [
    "## Q8: What would be the output of MyString[5::2] if?\n",
    "\n",
    "`MyString = \"Data Science with Harshit\"`"
   ]
  },
  {
   "cell_type": "code",
   "execution_count": 10,
   "metadata": {},
   "outputs": [
    {
     "data": {
      "text/plain": [
       "'Sinewt asi'"
      ]
     },
     "execution_count": 10,
     "metadata": {},
     "output_type": "execute_result"
    }
   ],
   "source": [
    "# code and test below...\n",
    "\n",
    "#'Sinewt asi'\n",
    "\n",
    "## Q8: What would be the output of MyString[5::2] if?\n",
    "\n",
    "MyString = \"Data Science with Harshit\"\n",
    "\n",
    "MyString[5::2]\n"
   ]
  },
  {
   "cell_type": "markdown",
   "metadata": {},
   "source": [
    "## Q9: Is there any 'go' in MyString if yes, at what index?  \n",
    "\n",
    "`MyString = \"You should go to your home!\"`"
   ]
  },
  {
   "cell_type": "code",
   "execution_count": 13,
   "metadata": {},
   "outputs": [
    {
     "data": {
      "text/plain": [
       "11"
      ]
     },
     "execution_count": 13,
     "metadata": {},
     "output_type": "execute_result"
    }
   ],
   "source": [
    "# code and test below...\n",
    "\n",
    "#11\n",
    "\n",
    "MyString = \"You should go to your home!\"\n",
    "\n",
    "MyString.index('go')\n"
   ]
  },
  {
   "cell_type": "markdown",
   "metadata": {},
   "source": [
    "## Q10: Evaluate the following expression and convert it to string object?\n",
    "\n",
    "`18 + 19 * 11`"
   ]
  },
  {
   "cell_type": "code",
   "execution_count": 16,
   "metadata": {},
   "outputs": [
    {
     "name": "stdout",
     "output_type": "stream",
     "text": [
      "<class 'str'>\n"
     ]
    }
   ],
   "source": [
    "# code and test below...\n",
    "\n",
    "#<class 'str'>\n",
    "\n",
    "StringCast = str(18 + 19 * 11)\n",
    "\n",
    "print(type(StringCast))\n",
    "\n"
   ]
  },
  {
   "cell_type": "markdown",
   "metadata": {},
   "source": [
    "## Q11: Replace Harshit with your name in the statement below.\n",
    "\n",
    "`MyString = \"Data Science with Harshit\"`"
   ]
  },
  {
   "cell_type": "code",
   "execution_count": 17,
   "metadata": {},
   "outputs": [
    {
     "data": {
      "text/plain": [
       "'Data Science with Cornel'"
      ]
     },
     "execution_count": 17,
     "metadata": {},
     "output_type": "execute_result"
    }
   ],
   "source": [
    "# code and test below...\n",
    "\n",
    "#'Data Science with Cornel'\n",
    "\n",
    "MyString = \"Data Science with Harshit\"\n",
    "\n",
    "MyString.replace('Harshit', 'Cornel')\n",
    "\n"
   ]
  },
  {
   "cell_type": "markdown",
   "metadata": {},
   "source": [
    "## Q12: Use the split() function to extract all the words of MyString in a list:\n",
    "\n",
    "`MyString = \"Data Science with Harshit\"`"
   ]
  },
  {
   "cell_type": "code",
   "execution_count": 18,
   "metadata": {},
   "outputs": [
    {
     "name": "stdout",
     "output_type": "stream",
     "text": [
      "['Data', 'Science', 'with', 'Harshit']\n"
     ]
    }
   ],
   "source": [
    "# code and test below...\n",
    "\n",
    "ExtractedList = MyString.split(' ')\n",
    "\n",
    "print(ExtractedList)\n",
    "\n"
   ]
  },
  {
   "cell_type": "markdown",
   "metadata": {},
   "source": [
    "## Q13: Extract the last element of the list without counting.\n",
    "\n",
    "`MyList = [23, 43, 56, 'tom', 'red', 65, 89, 90, 87]`"
   ]
  },
  {
   "cell_type": "code",
   "execution_count": 20,
   "metadata": {},
   "outputs": [
    {
     "name": "stdout",
     "output_type": "stream",
     "text": [
      "87\n"
     ]
    }
   ],
   "source": [
    "# code and test below...\n",
    "\n",
    "\n",
    "MyList = [23, 43, 56, 'tom', 'red', 65, 89, 90, 87]\n",
    "\n",
    "FinalNum = MyList[-1]\n",
    "\n",
    "print(FinalNum)\n"
   ]
  },
  {
   "cell_type": "markdown",
   "metadata": {},
   "source": [
    "## Q14: What is the length of the list below?\n",
    "\n",
    "`MyList = [23, 43, 56, 'tom', 'red', 65, 89, 90, 87]`"
   ]
  },
  {
   "cell_type": "code",
   "execution_count": 22,
   "metadata": {},
   "outputs": [
    {
     "data": {
      "text/plain": [
       "9"
      ]
     },
     "execution_count": 22,
     "metadata": {},
     "output_type": "execute_result"
    }
   ],
   "source": [
    "# code and test below...\n",
    "\n",
    "#9\n",
    "\n",
    "\n",
    "MyList = [23, 43, 56, 'tom', 'red', 65, 89, 90, 87]\n",
    "\n",
    "len(MyList)\n",
    "\n",
    "\n"
   ]
  },
  {
   "cell_type": "markdown",
   "metadata": {},
   "source": [
    "## Q15: Extract all the elements from 2nd index to 6th index.\n",
    "\n",
    "`MyList = [23, 43, 56, 'tom', 'red', 65, 89, 90, 87]`"
   ]
  },
  {
   "cell_type": "code",
   "execution_count": 24,
   "metadata": {},
   "outputs": [
    {
     "data": {
      "text/plain": [
       "[56, 'tom', 'red', 65, 89]"
      ]
     },
     "execution_count": 24,
     "metadata": {},
     "output_type": "execute_result"
    }
   ],
   "source": [
    "MyList = [23, 43, 56, 'tom', 'red', 65, 89, 90, 87]\n",
    "\n",
    "\n",
    "ExtraList = MyList[2:7]\n",
    "\n",
    "ExtraList"
   ]
  },
  {
   "cell_type": "markdown",
   "metadata": {},
   "source": [
    "## Q16: Extract all the elements except last 2 using slicing\n",
    "\n",
    "`MyList = [23, 43, 56, 'tom', 'red', 65, 89, 90, 87]`"
   ]
  },
  {
   "cell_type": "code",
   "execution_count": 27,
   "metadata": {},
   "outputs": [
    {
     "data": {
      "text/plain": [
       "[23, 43, 56, 'tom', 'red', 65, 89]"
      ]
     },
     "execution_count": 27,
     "metadata": {},
     "output_type": "execute_result"
    }
   ],
   "source": [
    "# code and test below...\n",
    "\n",
    "MyList = [23, 43, 56, 'tom', 'red', 65, 89, 90, 87]\n",
    "\n",
    "FirstSeven = MyList[:-2]\n",
    "\n",
    "FirstSeven\n"
   ]
  },
  {
   "cell_type": "markdown",
   "metadata": {},
   "source": [
    "## Q17: Are lists mutable? (Yes/No)\n",
    "\n"
   ]
  },
  {
   "cell_type": "code",
   "execution_count": 44,
   "metadata": {},
   "outputs": [],
   "source": [
    "# code and test below...\n",
    "\n",
    "#YES\n"
   ]
  },
  {
   "cell_type": "markdown",
   "metadata": {},
   "source": [
    "## Q18: Sort the below list using the in-built list class function:\n",
    "\n",
    "`MyList = [23, 43, 56, 65, 89, 90, 87]`"
   ]
  },
  {
   "cell_type": "code",
   "execution_count": 29,
   "metadata": {},
   "outputs": [
    {
     "data": {
      "text/plain": [
       "[23, 43, 56, 65, 87, 89, 90]"
      ]
     },
     "execution_count": 29,
     "metadata": {},
     "output_type": "execute_result"
    }
   ],
   "source": [
    "# code and test below...\n",
    "\n",
    "MyList = [23, 43, 56, 65, 89, 90, 87]\n",
    "\n",
    "MyList.sort()\n",
    "\n",
    "print(MyList)\n",
    "\n"
   ]
  },
  {
   "cell_type": "markdown",
   "metadata": {},
   "source": [
    "## Q19: Delete 'tom' and 'red' from the list using remove() function.\n",
    "\n",
    "`MyList = [23, 43, 56, 'tom', 'red', 65, 89, 90, 87]`"
   ]
  },
  {
   "cell_type": "code",
   "execution_count": 31,
   "metadata": {},
   "outputs": [
    {
     "name": "stdout",
     "output_type": "stream",
     "text": [
      "[23, 43, 56, 65, 89, 90, 87]\n"
     ]
    }
   ],
   "source": [
    "# code and test below...\n",
    "\n",
    "MyList = [23, 43, 56, 'tom', 'red', 65, 89, 90, 87]\n",
    "\n",
    "MyList.remove('tom')\n",
    "\n",
    "MyList.remove('red')\n",
    "\n",
    "print(MyList)\n"
   ]
  },
  {
   "cell_type": "markdown",
   "metadata": {},
   "source": [
    "## Q20: Tuples are mutable(True/False) \n",
    "\n"
   ]
  },
  {
   "cell_type": "code",
   "execution_count": 47,
   "metadata": {},
   "outputs": [],
   "source": [
    "# code and test below...\n",
    "\n",
    "#FALSE\n",
    "\n"
   ]
  },
  {
   "cell_type": "markdown",
   "metadata": {},
   "source": [
    "## Q21: From a tuple (23, -1, 34, [1 , 3] , 90), extract 3.\n",
    "\n"
   ]
  },
  {
   "cell_type": "code",
   "execution_count": 36,
   "metadata": {},
   "outputs": [
    {
     "name": "stdout",
     "output_type": "stream",
     "text": [
      "3\n"
     ]
    }
   ],
   "source": [
    "# code and test below...\n",
    "\n",
    "tuptup = (23, -1, 34, [1 , 3] , 90)\n",
    "\n",
    "InnerList = tuptup[3]\n",
    "\n",
    "Inner_01 = InnerList[1]\n",
    "\n",
    "print(Inner_01)"
   ]
  },
  {
   "cell_type": "markdown",
   "metadata": {},
   "source": [
    "## Q22: What is right method to clone a list? Create a clone the list below. `Imp` (Hint: slicing)\n",
    "\n",
    "`MyList = [23, 43, 56, 'tom', 'red', 65, 89, 90, 87]`"
   ]
  },
  {
   "cell_type": "code",
   "execution_count": 38,
   "metadata": {},
   "outputs": [
    {
     "name": "stdout",
     "output_type": "stream",
     "text": [
      "[23, 43, 56, 'tom', 'red', 65, 89, 90, 87]\n"
     ]
    }
   ],
   "source": [
    "# code and test below...\n",
    "\n",
    "MyList = [23, 43, 56, 'tom', 'red', 65, 89, 90, 87]\n",
    "\n",
    "ClonedList = MyList[:]\n",
    "\n",
    "print(ClonedList)\n",
    "\n"
   ]
  }
 ],
 "metadata": {
  "kernelspec": {
   "display_name": "Python 3",
   "language": "python",
   "name": "python3"
  },
  "language_info": {
   "codemirror_mode": {
    "name": "ipython",
    "version": 3
   },
   "file_extension": ".py",
   "mimetype": "text/x-python",
   "name": "python",
   "nbconvert_exporter": "python",
   "pygments_lexer": "ipython3",
   "version": "3.7.11"
  }
 },
 "nbformat": 4,
 "nbformat_minor": 2
}
